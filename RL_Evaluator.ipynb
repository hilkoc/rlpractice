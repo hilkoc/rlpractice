{
 "cells": [
  {
   "cell_type": "markdown",
   "metadata": {},
   "source": [
    "# Evaluate Reinforcement Learning agents\n",
    "For a given environment and agent, run a number of episodes to evaluate the performance."
   ]
  },
  {
   "cell_type": "code",
   "execution_count": null,
   "metadata": {},
   "outputs": [],
   "source": [
    "# imports\n",
    "import numpy as np\n",
    "import matplotlib.pyplot as plt\n",
    "%matplotlib\n",
    "import gridworld_env\n",
    "import gridworld_agent\n",
    "from agent import Environment\n"
   ]
  },
  {
   "cell_type": "code",
   "execution_count": null,
   "metadata": {},
   "outputs": [],
   "source": [
    "# The environment\n",
    "env = gridworld_env.GridWorld()"
   ]
  },
  {
   "cell_type": "code",
   "execution_count": null,
   "metadata": {},
   "outputs": [],
   "source": [
    "# The policy and the agent\n",
    "policy_space = gridworld_agent.make_constant_policy_space(env.action_space)\n",
    "alpha, gamma= 1, 0.9\n",
    "n = 5\n",
    "agent = gridworld_agent.TabularSarsa(n, env.observation_space, policy_space, eps=0.1, alpha=alpha, gamma=gamma)\n",
    "# filename = 'qvalues_gridworld-n{}-a{}.np'.format(n, alpha)\n",
    "# agent.load_weights(filename)\n"
   ]
  },
  {
   "cell_type": "code",
   "execution_count": null,
   "metadata": {},
   "outputs": [],
   "source": [
    "# The agent"
   ]
  },
  {
   "cell_type": "code",
   "execution_count": null,
   "metadata": {},
   "outputs": [],
   "source": [
    "# evaluate\n",
    "nr_episodes = 5 # Train for 5 episodes\n",
    "\n",
    "environment = Environment(env)\n",
    "environment.add_agent(agent)\n",
    "performance = environment.run_session(nr_episodes)\n",
    "\n",
    "\n"
   ]
  },
  {
   "cell_type": "code",
   "execution_count": null,
   "metadata": {},
   "outputs": [],
   "source": [
    "# plot_performance\n",
    "plt.figure()\n",
    "plt.plot(performance.keys(), performance.values(), label='best possible')\n",
    "plt.xlabel('time')\n",
    "plt.ylabel('best reward')\n",
    "plt.legend()\n",
    "plt.show()"
   ]
  }
 ],
 "metadata": {
  "kernelspec": {
   "display_name": "Python 3",
   "language": "python",
   "name": "python3"
  },
  "language_info": {
   "codemirror_mode": {
    "name": "ipython",
    "version": 3
   },
   "file_extension": ".py",
   "mimetype": "text/x-python",
   "name": "python",
   "nbconvert_exporter": "python",
   "pygments_lexer": "ipython3",
   "version": "3.5.6"
  }
 },
 "nbformat": 4,
 "nbformat_minor": 2
}
